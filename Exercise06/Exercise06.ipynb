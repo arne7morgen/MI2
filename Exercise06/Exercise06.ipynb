{
 "cells": [
  {
   "cell_type": "markdown",
   "metadata": {},
   "source": [
    "<img src=\"img/Auswahl_2016-06-04_001.png\"/>"
   ]
  },
  {
   "cell_type": "markdown",
   "metadata": {},
   "source": [
    "### Groupname: Gruppe 47\n",
    "\n",
    "<table align=\"left\" style=\"border-style: hidden; border-collapse: collapse\">\n",
    "  <tr>\n",
    "    <td>Arne Siebenmorgen</td>\n",
    "    <td>330529</td>\n",
    "  </tr>\n",
    "  <tr>\n",
    "    <td>Charlotte Stentzler</td>\n",
    "    <td>...</td>\n",
    "  </tr>\n",
    "  <tr>\n",
    "    <td>Patrick Irmisch</td>\n",
    "    <td>...</td>\n",
    "  </tr>\n",
    "  <tr>\n",
    "    <td>Jens Meiners</td>\n",
    "    <td>332697</td>\n",
    "  </tr>\n",
    "</table>"
   ]
  },
  {
   "cell_type": "code",
   "execution_count": 1,
   "metadata": {
    "collapsed": false
   },
   "outputs": [
    {
     "name": "stdout",
     "output_type": "stream",
     "text": [
      "2.7.9 (default, Apr  2 2015, 15:33:21) \n",
      "[GCC 4.9.2]\n"
     ]
    }
   ],
   "source": [
    "import sys\n",
    "print(sys.version)"
   ]
  },
  {
   "cell_type": "code",
   "execution_count": 2,
   "metadata": {
    "collapsed": false
   },
   "outputs": [
    {
     "name": "stdout",
     "output_type": "stream",
     "text": [
      "4.2.0\n"
     ]
    }
   ],
   "source": [
    "import IPython\n",
    "print(IPython.__version__)"
   ]
  },
  {
   "cell_type": "markdown",
   "metadata": {},
   "source": [
    "<img src=\"img/Auswahl_2016-06-04_002.png\"/>"
   ]
  },
  {
   "cell_type": "markdown",
   "metadata": {},
   "source": [
    "<img src=\"img/Auswahl_2016-06-04_003.png\"/>"
   ]
  },
  {
   "cell_type": "code",
   "execution_count": 9,
   "metadata": {
    "collapsed": true
   },
   "outputs": [],
   "source": [
    "# imports\n",
    "%matplotlib inline\n",
    "import numpy as np\n",
    "import matplotlib.pyplot as plt"
   ]
  },
  {
   "cell_type": "code",
   "execution_count": 10,
   "metadata": {
    "collapsed": true
   },
   "outputs": [],
   "source": [
    "# constants\n",
    "N = 2\n",
    "F = 8192\n",
    "p = 18000"
   ]
  },
  {
   "cell_type": "code",
   "execution_count": 14,
   "metadata": {
    "collapsed": false
   },
   "outputs": [],
   "source": [
    "s1 = np.loadtxt('sound1.dat')\n",
    "s2 = np.loadtxt('sound2.dat')"
   ]
  },
  {
   "cell_type": "code",
   "execution_count": 42,
   "metadata": {
    "collapsed": false
   },
   "outputs": [
    {
     "data": {
      "image/png": "[encoded data removed]",
      "text/plain": [
       "<matplotlib.figure.Figure at 0x7fdc0afac310>"
      ]
     },
     "metadata": {},
     "output_type": "display_data"
    },
    {
     "name": "stdout",
     "output_type": "stream",
     "text": [
      "data is of type <type 'numpy.ndarray'> and shape (18000,)\n"
     ]
    }
   ],
   "source": [
    "plt.plot(s1, alpha=0.5, label='sound 1')\n",
    "plt.plot(s2,'r-', alpha=0.5, label='sound 2')\n",
    "plt.legend()\n",
    "plt.show()\n",
    "print 'data is of type '+str(type(s1))+' and shape '+str(s1.shape)"
   ]
  },
  {
   "cell_type": "markdown",
   "metadata": {},
   "source": [
    "<img src=\"img/Auswahl_2016-06-04_004.png\"/>"
   ]
  },
  {
   "cell_type": "code",
   "execution_count": 93,
   "metadata": {
    "collapsed": false
   },
   "outputs": [
    {
     "name": "stdout",
     "output_type": "stream",
     "text": [
      "A:\n",
      "[[ 1.          0.25707192]\n",
      " [ 0.94772185  1.        ]]\n",
      "A is invertrable: True\n"
     ]
    }
   ],
   "source": [
    "# random samples from a uniform distribution over [0, 1).\n",
    "A = np.random.rand(N, N)\n",
    "np.fill_diagonal(A, 1)\n",
    "print 'A:\\n'+str(A)\n",
    "print 'A is invertrable: '+str(np.linalg.cond(A) < 1/sys.float_info.epsilon)"
   ]
  },
  {
   "cell_type": "code",
   "execution_count": 94,
   "metadata": {
    "collapsed": false
   },
   "outputs": [
    {
     "name": "stdout",
     "output_type": "stream",
     "text": [
      "x has shape (2, 18000)\n"
     ]
    }
   ],
   "source": [
    "s = np.vstack((s1, s2))\n",
    "x = A.dot(s)\n",
    "print 'x has shape '+str(x.shape)"
   ]
  },
  {
   "cell_type": "markdown",
   "metadata": {},
   "source": [
    "<img src=\"img/Auswahl_2016-06-04_005.png\"/>"
   ]
  },
  {
   "cell_type": "code",
   "execution_count": 95,
   "metadata": {
    "collapsed": false
   },
   "outputs": [],
   "source": [
    "# This function only shuffles the array along the first index of a multi-dimensional array\n",
    "# Because of this, we shuffle the transpose of x\n",
    "np.random.shuffle(x.T)"
   ]
  },
  {
   "cell_type": "code",
   "execution_count": 96,
   "metadata": {
    "collapsed": false
   },
   "outputs": [
    {
     "data": {
      "image/png": "[encoded data removed]",
      "text/plain": [
       "<matplotlib.figure.Figure at 0x7fdbf1f4cd10>"
      ]
     },
     "metadata": {},
     "output_type": "display_data"
    }
   ],
   "source": [
    "plt.plot(x[0,:], alpha=0.5, label='sound 1')\n",
    "plt.plot(x[1,:],'r-', alpha=0.5, label='sound 2')\n",
    "plt.legend()\n",
    "plt.show()"
   ]
  },
  {
   "cell_type": "markdown",
   "metadata": {},
   "source": [
    "<img src=\"img/Auswahl_2016-06-04_006.png\"/>"
   ]
  },
  {
   "cell_type": "code",
   "execution_count": 97,
   "metadata": {
    "collapsed": false
   },
   "outputs": [
    {
     "name": "stdout",
     "output_type": "stream",
     "text": [
      "   s1\t       s2\t   x1\t       x2\n",
      "[[ 1.          0.0012604  -0.00785137 -0.00199122]\n",
      " [ 0.0012604   1.         -0.0018854  -0.00636277]\n",
      " [-0.00785137 -0.0018854   1.          0.84720049]\n",
      " [-0.00199122 -0.00636277  0.84720049  1.        ]]\n"
     ]
    }
   ],
   "source": [
    "print '   s1\\t       s2\\t   x1\\t       x2'\n",
    "print np.corrcoef(np.vstack((s, x)))"
   ]
  },
  {
   "cell_type": "markdown",
   "metadata": {},
   "source": [
    "<img src=\"img/Auswahl_2016-06-04_007.png\"/>"
   ]
  },
  {
   "cell_type": "code",
   "execution_count": 98,
   "metadata": {
    "collapsed": false
   },
   "outputs": [
    {
     "name": "stdout",
     "output_type": "stream",
     "text": [
      "mean of x: [  3.15796771e-18  -7.89491929e-18]\n"
     ]
    }
   ],
   "source": [
    "x = x - x.mean(axis=1)[:, np.newaxis]\n",
    "print 'mean of x: '+str(x.mean(axis=1))"
   ]
  },
  {
   "cell_type": "code",
   "execution_count": 99,
   "metadata": {
    "collapsed": false
   },
   "outputs": [
    {
     "data": {
      "image/png": "[encoded data removed]",
      "text/plain": [
       "<matplotlib.figure.Figure at 0x7fdbf1c9c250>"
      ]
     },
     "metadata": {},
     "output_type": "display_data"
    }
   ],
   "source": [
    "plt.plot(x[0,:], alpha=0.5, label='sound 1')\n",
    "plt.plot(x[1,:],'r-', alpha=0.5, label='sound 2')\n",
    "plt.legend()\n",
    "plt.show()"
   ]
  },
  {
   "cell_type": "markdown",
   "metadata": {},
   "source": [
    "As the mean was very small, there is hardly any visual change in the plot."
   ]
  },
  {
   "cell_type": "markdown",
   "metadata": {},
   "source": [
    "<img src=\"img/Auswahl_2016-06-04_008.png\"/>"
   ]
  },
  {
   "cell_type": "code",
   "execution_count": 100,
   "metadata": {
    "collapsed": true
   },
   "outputs": [],
   "source": [
    "W = np.random.rand(N, N)"
   ]
  },
  {
   "cell_type": "markdown",
   "metadata": {},
   "source": [
    "<img src=\"img/Auswahl_2016-06-04_009.png\"/>"
   ]
  },
  {
   "cell_type": "markdown",
   "metadata": {},
   "source": [
    "<img src=\"img/Auswahl_2016-06-04_016.png\"/>"
   ]
  },
  {
   "cell_type": "markdown",
   "metadata": {},
   "source": [
    "<img src=\"img/Auswahl_2016-06-04_018.png\"/>"
   ]
  },
  {
   "cell_type": "markdown",
   "metadata": {},
   "source": [
    "<img src=\"img/Auswahl_2016-06-04_019.png\"/>"
   ]
  },
  {
   "cell_type": "code",
   "execution_count": 101,
   "metadata": {
    "collapsed": true
   },
   "outputs": [],
   "source": [
    "def regular(w, x, eta):\n",
    "    for d in x:\n",
    "        d_w = np.linalg.inv(w) + (1 - (2 / (1 + np.exp(-w.dot(d)))))\n",
    "        w = w +  eta * d_w"
   ]
  },
  {
   "cell_type": "markdown",
   "metadata": {},
   "source": [
    "<img src=\"img/Auswahl_2016-06-04_010.png\"/>"
   ]
  },
  {
   "cell_type": "code",
   "execution_count": 102,
   "metadata": {
    "collapsed": true
   },
   "outputs": [],
   "source": [
    "def natural():\n",
    "    pass"
   ]
  },
  {
   "cell_type": "markdown",
   "metadata": {},
   "source": [
    "<img src=\"img/Auswahl_2016-06-04_011.png\"/>"
   ]
  },
  {
   "cell_type": "code",
   "execution_count": null,
   "metadata": {
    "collapsed": true
   },
   "outputs": [],
   "source": []
  },
  {
   "cell_type": "markdown",
   "metadata": {},
   "source": [
    "<img src=\"img/Auswahl_2016-06-04_012.png\"/>"
   ]
  },
  {
   "cell_type": "code",
   "execution_count": null,
   "metadata": {
    "collapsed": true
   },
   "outputs": [],
   "source": []
  },
  {
   "cell_type": "markdown",
   "metadata": {},
   "source": [
    "<img src=\"img/Auswahl_2016-06-04_013.png\"/>"
   ]
  },
  {
   "cell_type": "code",
   "execution_count": null,
   "metadata": {
    "collapsed": true
   },
   "outputs": [],
   "source": []
  },
  {
   "cell_type": "markdown",
   "metadata": {},
   "source": [
    "<img src=\"img/Auswahl_2016-06-04_014.png\"/>"
   ]
  },
  {
   "cell_type": "code",
   "execution_count": null,
   "metadata": {
    "collapsed": true
   },
   "outputs": [],
   "source": []
  },
  {
   "cell_type": "markdown",
   "metadata": {},
   "source": [
    "<img src=\"img/Auswahl_2016-06-04_015.png\"/>"
   ]
  },
  {
   "cell_type": "code",
   "execution_count": null,
   "metadata": {
    "collapsed": true
   },
   "outputs": [],
   "source": []
  }
 ],
 "metadata": {
  "kernelspec": {
   "display_name": "Python 2",
   "language": "python",
   "name": "python2"
  },
  "language_info": {
   "codemirror_mode": {
    "name": "ipython",
    "version": 2
   },
   "file_extension": ".py",
   "mimetype": "text/x-python",
   "name": "python",
   "nbconvert_exporter": "python",
   "pygments_lexer": "ipython2",
   "version": "2.7.9"
  }
 },
 "nbformat": 4,
 "nbformat_minor": 0
}
